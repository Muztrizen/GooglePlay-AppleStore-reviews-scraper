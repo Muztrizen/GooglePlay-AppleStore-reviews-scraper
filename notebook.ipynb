{
  "nbformat": 4,
  "nbformat_minor": 0,
  "metadata": {
    "colab": {
      "name": "Google_Apps_App_Store_Reviews_Extractor.ipynb",
      "version": "0.3.2",
      "provenance": [],
      "collapsed_sections": []
    },
    "kernelspec": {
      "name": "python3",
      "display_name": "Python 3"
    },
    "accelerator": "GPU"
  },
  "cells": [
    {
      "cell_type": "code",
      "metadata": {
        "id": "6WBRB9a_d3_z",
        "colab_type": "code",
        "colab": {
          "base_uri": "https://localhost:8080/",
          "height": 1000
        },
        "outputId": "7bcc5977-cac5-455f-c429-283153ecc41e"
      },
      "source": [
        "!git clone https://github.com/toxtli/GooglePlay-AppleStore-reviews-scraper.git\n",
        "%cd GooglePlay-AppleStore-reviews-scraper\n",
        "!./colab_headless.sh"
      ],
      "execution_count": 1,
      "outputs": [
        {
          "output_type": "stream",
          "text": [
            "Cloning into 'GooglePlay-AppleStore-reviews-scraper'...\n",
            "remote: Enumerating objects: 84, done.\u001b[K\n",
            "remote: Counting objects: 100% (84/84), done.\u001b[K\n",
            "remote: Compressing objects: 100% (61/61), done.\u001b[K\n",
            "remote: Total 84 (delta 40), reused 60 (delta 19), pack-reused 0\u001b[K\n",
            "Unpacking objects: 100% (84/84), done.\n",
            "/content/GooglePlay-AppleStore-reviews-scraper\n",
            "Requirement already satisfied: pandas in /usr/local/lib/python3.6/dist-packages (from -r requirements.txt (line 1)) (0.24.2)\n",
            "Collecting selenium (from -r requirements.txt (line 2))\n",
            "\u001b[?25l  Downloading https://files.pythonhosted.org/packages/80/d6/4294f0b4bce4de0abf13e17190289f9d0613b0a44e5dd6a7f5ca98459853/selenium-3.141.0-py2.py3-none-any.whl (904kB)\n",
            "\u001b[K     |████████████████████████████████| 911kB 6.7MB/s \n",
            "\u001b[?25hRequirement already satisfied: numpy>=1.12.0 in /usr/local/lib/python3.6/dist-packages (from pandas->-r requirements.txt (line 1)) (1.16.4)\n",
            "Requirement already satisfied: python-dateutil>=2.5.0 in /usr/local/lib/python3.6/dist-packages (from pandas->-r requirements.txt (line 1)) (2.5.3)\n",
            "Requirement already satisfied: pytz>=2011k in /usr/local/lib/python3.6/dist-packages (from pandas->-r requirements.txt (line 1)) (2018.9)\n",
            "Requirement already satisfied: urllib3 in /usr/local/lib/python3.6/dist-packages (from selenium->-r requirements.txt (line 2)) (1.24.3)\n",
            "Requirement already satisfied: six>=1.5 in /usr/local/lib/python3.6/dist-packages (from python-dateutil>=2.5.0->pandas->-r requirements.txt (line 1)) (1.12.0)\n",
            "Installing collected packages: selenium\n",
            "Successfully installed selenium-3.141.0\n",
            "Get:1 http://ppa.launchpad.net/graphics-drivers/ppa/ubuntu bionic InRelease [21.3 kB]\n",
            "Hit:2 http://archive.ubuntu.com/ubuntu bionic InRelease\n",
            "Get:3 http://ppa.launchpad.net/marutter/c2d4u3.5/ubuntu bionic InRelease [15.4 kB]\n",
            "Get:4 http://archive.ubuntu.com/ubuntu bionic-updates InRelease [88.7 kB]\n",
            "Get:5 http://security.ubuntu.com/ubuntu bionic-security InRelease [88.7 kB]\n",
            "Get:6 http://archive.ubuntu.com/ubuntu bionic-backports InRelease [74.6 kB]\n",
            "Get:7 https://cloud.r-project.org/bin/linux/ubuntu bionic-cran35/ InRelease [3,626 B]\n",
            "Ign:8 https://developer.download.nvidia.com/compute/cuda/repos/ubuntu1804/x86_64  InRelease\n",
            "Ign:9 https://developer.download.nvidia.com/compute/machine-learning/repos/ubuntu1804/x86_64  InRelease\n",
            "Get:10 https://developer.download.nvidia.com/compute/cuda/repos/ubuntu1804/x86_64  Release [564 B]\n",
            "Hit:11 https://developer.download.nvidia.com/compute/machine-learning/repos/ubuntu1804/x86_64  Release\n",
            "Get:12 https://developer.download.nvidia.com/compute/cuda/repos/ubuntu1804/x86_64  Release.gpg [819 B]\n",
            "Get:13 http://ppa.launchpad.net/graphics-drivers/ppa/ubuntu bionic/main amd64 Packages [31.5 kB]\n",
            "Get:14 http://ppa.launchpad.net/marutter/c2d4u3.5/ubuntu bionic/main Sources [1,678 kB]\n",
            "Get:15 http://ppa.launchpad.net/marutter/c2d4u3.5/ubuntu bionic/main amd64 Packages [807 kB]\n",
            "Get:16 http://archive.ubuntu.com/ubuntu bionic-updates/multiverse amd64 Packages [8,000 B]\n",
            "Get:17 http://archive.ubuntu.com/ubuntu bionic-updates/restricted amd64 Packages [18.5 kB]\n",
            "Get:18 http://archive.ubuntu.com/ubuntu bionic-updates/universe amd64 Packages [1,284 kB]\n",
            "Get:19 http://archive.ubuntu.com/ubuntu bionic-updates/main amd64 Packages [937 kB]\n",
            "Get:20 https://cloud.r-project.org/bin/linux/ubuntu bionic-cran35/ Packages [70.5 kB]\n",
            "Get:22 https://developer.download.nvidia.com/compute/cuda/repos/ubuntu1804/x86_64  Packages [113 kB]\n",
            "Get:23 http://security.ubuntu.com/ubuntu bionic-security/multiverse amd64 Packages [4,957 B]\n",
            "Get:24 http://security.ubuntu.com/ubuntu bionic-security/restricted amd64 Packages [7,802 B]\n",
            "Get:25 http://security.ubuntu.com/ubuntu bionic-security/universe amd64 Packages [766 kB]\n",
            "Get:26 http://security.ubuntu.com/ubuntu bionic-security/main amd64 Packages [640 kB]\n",
            "Fetched 6,659 kB in 14s (478 kB/s)\n",
            "Reading package lists... Done\n",
            "Reading package lists... Done\n",
            "Building dependency tree       \n",
            "Reading state information... Done\n",
            "The following additional packages will be installed:\n",
            "  chromium-browser chromium-browser-l10n chromium-codecs-ffmpeg-extra\n",
            "Suggested packages:\n",
            "  webaccounts-chromium-extension unity-chromium-extension adobe-flashplugin\n",
            "The following NEW packages will be installed:\n",
            "  chromium-browser chromium-browser-l10n chromium-chromedriver\n",
            "  chromium-codecs-ffmpeg-extra\n",
            "0 upgraded, 4 newly installed, 0 to remove and 52 not upgraded.\n",
            "Need to get 65.8 MB of archives.\n",
            "After this operation, 234 MB of additional disk space will be used.\n",
            "Get:1 http://archive.ubuntu.com/ubuntu bionic-updates/universe amd64 chromium-codecs-ffmpeg-extra amd64 76.0.3809.100-0ubuntu0.18.04.1 [1,066 kB]\n",
            "Get:2 http://archive.ubuntu.com/ubuntu bionic-updates/universe amd64 chromium-browser amd64 76.0.3809.100-0ubuntu0.18.04.1 [57.5 MB]\n",
            "Get:3 http://archive.ubuntu.com/ubuntu bionic-updates/universe amd64 chromium-browser-l10n all 76.0.3809.100-0ubuntu0.18.04.1 [2,985 kB]\n",
            "Get:4 http://archive.ubuntu.com/ubuntu bionic-updates/universe amd64 chromium-chromedriver amd64 76.0.3809.100-0ubuntu0.18.04.1 [4,239 kB]\n",
            "Fetched 65.8 MB in 1s (55.4 MB/s)\n",
            "Selecting previously unselected package chromium-codecs-ffmpeg-extra.\n",
            "(Reading database ... 131183 files and directories currently installed.)\n",
            "Preparing to unpack .../chromium-codecs-ffmpeg-extra_76.0.3809.100-0ubuntu0.18.04.1_amd64.deb ...\n",
            "Unpacking chromium-codecs-ffmpeg-extra (76.0.3809.100-0ubuntu0.18.04.1) ...\n",
            "Selecting previously unselected package chromium-browser.\n",
            "Preparing to unpack .../chromium-browser_76.0.3809.100-0ubuntu0.18.04.1_amd64.deb ...\n",
            "Unpacking chromium-browser (76.0.3809.100-0ubuntu0.18.04.1) ...\n",
            "Selecting previously unselected package chromium-browser-l10n.\n",
            "Preparing to unpack .../chromium-browser-l10n_76.0.3809.100-0ubuntu0.18.04.1_all.deb ...\n",
            "Unpacking chromium-browser-l10n (76.0.3809.100-0ubuntu0.18.04.1) ...\n",
            "Selecting previously unselected package chromium-chromedriver.\n",
            "Preparing to unpack .../chromium-chromedriver_76.0.3809.100-0ubuntu0.18.04.1_amd64.deb ...\n",
            "Unpacking chromium-chromedriver (76.0.3809.100-0ubuntu0.18.04.1) ...\n",
            "Processing triggers for mime-support (3.60ubuntu1) ...\n",
            "Setting up chromium-codecs-ffmpeg-extra (76.0.3809.100-0ubuntu0.18.04.1) ...\n",
            "Processing triggers for man-db (2.8.3-2ubuntu0.1) ...\n",
            "Processing triggers for hicolor-icon-theme (0.17-2) ...\n",
            "Setting up chromium-browser (76.0.3809.100-0ubuntu0.18.04.1) ...\n",
            "update-alternatives: using /usr/bin/chromium-browser to provide /usr/bin/x-www-browser (x-www-browser) in auto mode\n",
            "update-alternatives: using /usr/bin/chromium-browser to provide /usr/bin/gnome-www-browser (gnome-www-browser) in auto mode\n",
            "Setting up chromium-chromedriver (76.0.3809.100-0ubuntu0.18.04.1) ...\n",
            "Setting up chromium-browser-l10n (76.0.3809.100-0ubuntu0.18.04.1) ...\n"
          ],
          "name": "stdout"
        }
      ]
    },
    {
      "cell_type": "code",
      "metadata": {
        "id": "WTkjju5mm5ZM",
        "colab_type": "code",
        "colab": {
          "base_uri": "https://localhost:8080/",
          "height": 51
        },
        "outputId": "84a88f8e-cc29-4658-8fd5-1127f09fca25"
      },
      "source": [
        "!python app.py -g -q -s google -c com.ecosia.android -o ecosia_test.csv -n 40"
      ],
      "execution_count": 2,
      "outputs": [
        {
          "output_type": "stream",
          "text": [
            "40\n",
            "--- 11.679467916488647 seconds ---\n"
          ],
          "name": "stdout"
        }
      ]
    },
    {
      "cell_type": "code",
      "metadata": {
        "id": "0t6J4zAf4HZq",
        "colab_type": "code",
        "colab": {
          "base_uri": "https://localhost:8080/",
          "height": 734
        },
        "outputId": "c2eb09e3-26cc-4958-f514-3171809c0475"
      },
      "source": [
        "!cat ecosia_test.csv"
      ],
      "execution_count": 3,
      "outputs": [
        {
          "output_type": "stream",
          "text": [
            "author,review,rating,vote_count,date,reply\r\n",
            "b'Harley Eagle',\"b'Love the app, works quite well. I just hope that you guys actually plant these trees, you know since the amazon rainforest is burning. I love the tree counter, makes me feel good about doing stupid s*** on the internet. I would like to see widgets or extensions. Or a definite way that I automatically use it over chrome. Either way, great app. Keep up the great work!'\",b'Rated 5 stars out of five stars',b'150',\"b'August 23, 2019'\",b''\r\n",
            "b'Andr\\xc3\\xa9',\"b'I was very surprised to see how similar it was to Chrome! The settings, the UI, and even the homescreen look exactly alike! I had to stop using Chrome because it was being too slow to the point where it\\'s unbearable to use and that annoyed me greatly. Ecosia somehow said \"\"hey, why not use Chrome again, but without the hassle this time? You\\'re also planting trees in the process!\"\" and did I fall for it? You damn bet I did.'\",b'Rated 5 stars out of five stars',b'3',\"b'September 2, 2019'\",b''\r\n",
            "b'Hiiro Shiroi',\"b\"\"I love the idea behind this it feels good contributing to something good for the planet. I would like to be able to have an account option, log in and have my bookmarks in one place, I had to delete the app momentarily and lost all my bookmarks. The adblock has been disabled and it's causing extremely annoying ads to pop up even when I'm not using the browser. This is terrible since one thing I love about ecosia is the lack of ads, I hope this is fixed soon.\"\"\",b'Rated 2 stars out of five stars',b'4',\"b'August 29, 2019'\",b''\r\n",
            "b'Lyn Newingham',\"b\"\"I deleted this app one time just to clear up space for another app. Big mistake. Samsung browser doesn't work but half the time and i hate Google chrome. This is a light app with an easy interface and it plants trees, which we need. I have the ecosia extension on all three of my devices and i will be keeping it for a long time.\"\"\",b'Rated 5 stars out of five stars',b'2',\"b'August 25, 2019'\",b''\r\n",
            "b'Sypher RC',\"b\"\"I'm ecstatic at the thought of everytime I look up something or do anything on the internet I make the Earth a little greener. I feel like if you want to help further the environment everyday this is the way to do it. Especially with how the global environment is now this was really needed.\"\"\",b'Rated 5 stars out of five stars',b'1',\"b'August 21, 2019'\",b''\r\n",
            "\"b'Haha, Made you read!'\",\"b\"\"I had heard about this app because of a meme: a very life changing one! It said that this app would plant a tree every 46 searches. I usually feel really useless because I'm not helping the amazon fire or global warming or anything, but this made me feel better knowing that even though I'm sitting at home looking up random stuff, I'm helping the enviorment\"\"\",b'Rated 5 stars out of five stars',b'2',\"b'September 1, 2019'\",b''\r\n",
            "b'Lisya Thio',\"b'I like it at first as its for planting more trees. But this damn app show me the most irrelevant, outdated and ridiculous new news from out of nowhere to be on top of my searching. And I feel the credibility of the search engine isnt that good. If I search entertaintment sure this is enough but no to news and information of my studies'\",b'Rated 2 stars out of five stars',b'',\"b'September 2, 2019'\",b''\r\n",
            "b'Paul Finnegan',\"b\"\"I meet this app in a meme and I must say that I love it. First of all the cause is really good, plant trees by making simple researchs it's amazing. Second, the engine is very similar to Google, a little bit slow sometimes but still good, and you can also play flash animations. I must say that this might be the best navigation app ever, all that effort will pay back\"\"\",b'Rated 5 stars out of five stars',b'19',\"b'August 28, 2019'\",b''\r\n",
            "b'Teddy',\"b\"\"For some reason it doesn't count all my searches? Idk if it's because I do them in a short amount of time but at times wouldn't count three or more of my searches with the tree counter. I just want to make sure I plant as many trees as possible and I can't do that if it doesn't count all my searches\"\"\",b'Rated 5 stars out of five stars',b'1',\"b'August 24, 2019'\",b''\r\n",
            "b'Patricia Javier',\"b'crashes whenever I download something. and when I choose sd card as a download location, it is stored within the com.ecosia.android folder. I have to go within the android folders just to access my download. I hope there can be an option to choose a download location specifically.'\",b'Rated 3 stars out of five stars',b'',\"b'September 1, 2019'\",b''\r\n",
            "b'Ewan Read',\"b\"\"Just as good as Google, an amazing cause. We've downloaded this to save the planet and it's completely legit. The app does not look as good as Google or other apps but the developers are hopefully working hard on the app! Great app!\"\"\",b'Rated 5 stars out of five stars',b'',\"b'August 30, 2019'\",b''\r\n",
            "b'LimitlessSkies 31',\"b'Amazing idea and a great cause! Love the tree counter and being able to see how using this search engine is causing progress, the updates about what ecosia are doing is great as well, keep up the amazing work and helping the planet!'\",b'Rated 5 stars out of five stars',b'',\"b'September 3, 2019'\",b''\r\n",
            "b'fck vwls',\"b\"\"I think it is the best you can surf the web and at the same time help plant trees it also helps with the fire in the Amazon rainforest. You are also not tracked it feels great. No words can describe it's awsomeness\"\"\",b'Rated 5 stars out of five stars',b'2',\"b'August 25, 2019'\",b''\r\n",
            "b'shwematesatt shwematesatt',\"b'This is a great app for preventing deforestation! But how do you plant a tree so fast, like in the tree counter? It was like one tree per second! How amazing! Anyways, who grow those trees?'\",b'Rated 4 stars out of five stars',b'',\"b'August 27, 2019'\",b''\r\n",
            "b'Heyjaswhatsup',\"b'I love the cause of the app, but there has been problems where i cant even search something without having an error occurring, not usable at all. I hope you guys will fix this cause i really want to use it'\",b'Rated 2 stars out of five stars',b'7',\"b'September 3, 2019'\",b''\r\n",
            "b'Nguy\\xe1\\xbb\\x85n Ng\\xe1\\xbb\\x8dc Trinh',b'Well done. I was truly blown away by this amazing app. You guys have given me a chance to do something to help the environment. The most intelligent invention ever. Keep going. \\xe2\\x9d\\xa4\\xef\\xb8\\x8f\\xe2\\x9d\\xa4\\xef\\xb8\\x8f\\xe2\\x9d\\xa4\\xef\\xb8\\x8f',b'Rated 5 stars out of five stars',b'',\"b'August 30, 2019'\",b''\r\n",
            "b'Joseph B',\"b\"\"Mostly just love the privacy and tree planting, the only draw back is it doesnt do things like automatically bring up definitions, you have to press a link, but that's not worth losing a star lol\"\"\",b'Rated 5 stars out of five stars',b'1',\"b'August 24, 2019'\",b''\r\n",
            "b'Arnel Rubio',b'As a Human. I support this app and the dev for their motivation for the environment. We must know that there is already wrong in our planet this recent years some may find not interesting but just think deep and find why.',b'Rated 5 stars out of five stars',b'',\"b'September 1, 2019'\",b''\r\n",
            "b'Abner Plata',\"b'Abner Plata Sun. Aug 25 To whom it May concern I turn to you to let you know my great interest for being part of the team and making it grow all over the world, especially in Mexico.'\",b'Rated 5 stars out of five stars',b'',\"b'August 25, 2019'\",b''\r\n",
            "b'Gerg\\xc5\\x91 Szil\\xc3\\xa1gyi',b'Please fix one huge problem. When someone searches for news they want news. Unfortunatelly Fox is like the first 6 search results. Fox is best known for lying and that is anti news or fake news. Thx.',b'Rated 4 stars out of five stars',b'1',\"b'September 2, 2019'\",b''\r\n",
            "b'Paraschos Kombos',\"b'I love the fact that every 45 searches a new true is planted who ever made this is a person we all wished to be and still do I wish I could just think of these ideas and be clever and creative as this, this is soooooo kind and helpful to the environment'\",b'Rated 5 stars out of five stars',b'',\"b'August 29, 2019'\",b''\r\n",
            "b'Martina Miniello',\"b\"\"It's really a smart way to increase environmental awareness! Financial reports are published every month, so you can see how many funds are actually invested in trees. Hope this project will grow even more in the future.\"\"\",b'Rated 5 stars out of five stars',b'',\"b'August 23, 2019'\",b''\r\n",
            "b'Aidan Juma',\"b\"\"I absolutely love the work Ecosia does! The UI could be more modern, but that's just me nit-picking, it's about the trees, not the looks! Keep it up, guys! :)\"\"\",b'Rated 5 stars out of five stars',b'',\"b'August 30, 2019'\",b''\r\n",
            "b'D G',\"b'I love the idea guys, but I cant watch anime or adult videos. Please fix this. I still rate it 5 stars and continue to use it when i can because we must save the planet.'\",b'Rated 5 stars out of five stars',b'',\"b'August 30, 2019'\",b''\r\n",
            "b'Lucid Gate',\"b\"\"Great browser, great cause! The only downside as an average user is that I'm photo sensitive, and there is no dark mode, unfortunelly, other than that, I recommend it!!\"\"\",b'Rated 4 stars out of five stars',b'',\"b'September 1, 2019'\",b''\r\n",
            "b'Alessandro Alberto Viassone',b'The search engine is not good as Google (it is obvious). But it promises to plant (real) trees. The only reason I use it. There is a long room for improvement.',b'Rated 3 stars out of five stars',b'',\"b'August 31, 2019'\",b''\r\n",
            "b'Zein Ahmad',\"b\"\"TBH I haven't even tried the app but 5 stars for the cause Update: have tried the app REALLY awesome very stable and can handle slow internet very well 10/10 I recommend every one to download it.\"\"\",b'Rated 5 stars out of five stars',b'1',\"b'August 24, 2019'\",b''\r\n",
            "b'Manon Pruvost',\"b'Amazing initiative by ecosia and great app. Have been solely using for a while now, thank you for the great job!!'\",b'Rated 5 stars out of five stars',b'1',\"b'August 23, 2019'\",b''\r\n",
            "b'annousse ananasse',\"b\"\"I always felt like I can't do anything to save our planet, and found this app. Just from using internet you can do so much! Thank you for doing this app!!\"\"\",b'Rated 5 stars out of five stars',b'',\"b'August 22, 2019'\",b''\r\n",
            "b'Dominik Gierl',\"b\"\"The concept of ecosia with the tree planting. i even accept that the results are not as good as googles results. but i really don't like the fact that you say you protect my privacy but the results are by Microsoft (a company which is collecting data) also a feature that is missing is a ecosia account, so that i can have my bookmarks and browsing history across devices\"\"\",b'Rated 3 stars out of five stars',b'13',\"b'August 15, 2019'\",b''\r\n",
            "b'Dennis Xu',\"b\"\"We all know why we're choosing Ecosia as our browser. Great mission, great cause. I'm also pleasantly surprised by how usable it is. It's based on Chrome so the gestures and features will be very familiar for anyone switching over, but it feels even faster than Chrome (which I always thought was the standard for fast mobile browsing - based on load times and animations). It's a different search engine so that takes a bit to get used to, but so far the results give me what I need and expect.\"\"\",b'Rated 5 stars out of five stars',b'411',\"b'August 26, 2019'\",b''\r\n",
            "b'Mary Mai',\"b\"\"This app is the best thing that happened to me. Not only it is reliable, I feel safer trusting my data in Ecosia than in Google, I also feel better looking at the tree counter, I don't know why but it calms my depression down, it's great. I use it everyday that I completely forgot about Google, I'm not joking. The application is getting better with every update. It is user friendly and very easy to browse through. I am definitely staying with Ecosia and to the person reading this, you should too\"\"\",b'Rated 5 stars out of five stars',b'111',\"b'August 25, 2019'\",b''\r\n",
            "b'Kaptain Koopa Kirby',\"b'Great browser that runs smoothly, and plants trees for every 45 searches, even keeps track of it! An effortless way to keep your data private and plant trees. I do wish it remembered my settings, for example country of search (ie. I have to reset it to a different country every time I search if I want my results in the right language. Just a small nuisance, still better than chrome :p)'\",b'Rated 4 stars out of five stars',b'454',\"b'August 12, 2019'\",b''\r\n",
            "b'Zeejay',\"b\"\"It's good but there are some websites (like YouTube) that I cannot open on Ecosia. It would let me proceed with the YouTube application. Hope you guys will fix this and I will come back with 5 stars. \\xf0\\x9f\\x98\\x8a EDIT: I just opened YouTube with Ecosia. Hehehehehehe I just saw it on the home page. Thanks for making this browser. This would help a lot especially this time.\"\"\",b'Rated 5 stars out of five stars',b'23',\"b'August 21, 2019'\",b''\r\n",
            "b'Kharen Bregania',\"b\"\"I really want to help our mother nature. I want a better future for all of us that's why I am installing this app. I know this little thing could help a lot. May God bless you all. Keep up the good work!\"\"\",b'Rated 5 stars out of five stars',b'',\"b'August 30, 2019'\",b''\r\n",
            "b'Nishitha',\"b\"\"I love this search engine a lot!! First I was little doubtful about this but then I kind of did a little research about this and then I came to conclusion that this Ecosia organization is planting trees. And the search on ecosia grew faster as hundreds of people are searching for every 0.8 seconds. I highly recommend everyone to use this app. I hope you'll also plant trees in and around Amazon Rainforest cause we all know the reason and other parts of Asia. Thank you. GOOD LUCK!! \\xf0\\x9f\\x92\\x9c\"\"\",b'Rated 4 stars out of five stars',b'1',\"b'August 25, 2019'\",b''\r\n",
            "b'Phantasm - Jasmine',\"b\"\"I'm trying to pull away from Google as much as possible since it's been exposed for its personal bias and privacy invasion with all of its services. Doing that after owning an android phone for 10 years is nearly impossible. But this is one of my many baby steps. I love trees and it makes me feel good knowing I can plant them by just switching my search engine/browser.\"\"\",b'Rated 5 stars out of five stars',b'35',\"b'August 18, 2019'\",b''\r\n",
            "b'boy blue',\"b'I love the fact that I can surf the web for everyday questions, checking my socials, or even watching youtube! (And yes, every time you watch a new video or load a new page, they plant a tree) With our ecological state, Ecosia is people who want to enjoy making a change. (And, it runs a lot better than Chrome \\xf0\\x9f\\x98\\x8f)'\",b'Rated 5 stars out of five stars',b'607',\"b'August 10, 2019'\",b''\r\n",
            "b'Kura thefoxcat1791',\"b\"\"I personally dont know why some are having so much trouble , if you researched the web engine it would tell you that is does have a lot of ads but your privacy is safe and it does take 45 searches to plant but we search that much anyways so it's not really a bug deal. I have been using my social medias as my go to's for my tree planting ways and I have successfully planted at least 3. 3 trees is better than 0. But hey this is my opinion and I'm sure there are others who agree.\"\"\",b'Rated 5 stars out of five stars',b'33',\"b'August 10, 2019'\",b''\r\n",
            "b'Amber Williams',\"b\"\"Mostly installed for the trees, but tbh its an amazing browser overall. It's like chrome but better. Made it the default web browser on my device. kudos \\xf0\\x9f\\x96\\x92\"\"\",b'Rated 5 stars out of five stars',b'',\"b'August 31, 2019'\",b''\r\n"
          ],
          "name": "stdout"
        }
      ]
    }
  ]
}